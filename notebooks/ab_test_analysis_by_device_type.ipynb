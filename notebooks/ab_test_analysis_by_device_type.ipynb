{
 "cells": [
  {
   "cell_type": "code",
   "execution_count": 51,
   "id": "93d7f4df-b940-4fdf-9f38-428022ce6f88",
   "metadata": {},
   "outputs": [
    {
     "data": {
      "text/plain": [
       "'/workspace/ab-testing-simulation/notebooks'"
      ]
     },
     "execution_count": 51,
     "metadata": {},
     "output_type": "execute_result"
    }
   ],
   "source": [
    "import os\n",
    "os.getcwd()"
   ]
  },
  {
   "cell_type": "markdown",
   "id": "f47a63ef-5948-45c4-8e9f-67596bef4b04",
   "metadata": {},
   "source": [
    "# A/B Test Results by Device Type\n",
    "\n",
    "Although the overall A/B test results (ab_test_analysis.ipynb) show some metrics with significant differences (like session duration and pages viewed), it’s common in e-commerce to observe different behavioral patterns across devices:\n",
    "\n",
    "- Mobile users often show shorter sessions, higher bounce rates, and a tendency toward quicker decisions due to time or screen constraints.\n",
    "\n",
    "- Desktop users may engage in deeper browsing, comparison shopping, and are often more likely to convert for higher-ticket items.\n",
    "\n",
    "- Tablet users, may represent casual shoppers or shared household devices, adding a hybrid behavior layer.\n",
    "\n",
    "- A variant that performs well overall might actually be outperforming only on one device type, and underperforming on the other, making device-specific analysis critical before making rollout decisions."
   ]
  },
  {
   "cell_type": "markdown",
   "id": "85733fce-3ddf-461c-b44b-4673b64dd997",
   "metadata": {},
   "source": [
    "## Data & Group Overview"
   ]
  },
  {
   "cell_type": "code",
   "execution_count": 52,
   "id": "f2e7f5ca-b622-45fb-a12b-4b66d2b2337c",
   "metadata": {},
   "outputs": [],
   "source": [
    "import pandas as pd\n",
    "import numpy as np\n",
    "import matplotlib.pyplot as plt\n",
    "import seaborn as sns\n",
    "from scipy.stats import shapiro\n",
    "import scipy.stats as stats\n",
    "from scipy.stats import mannwhitneyu\n",
    "from scipy.stats import ttest_ind\n",
    "import statsmodels.api as sm\n",
    "from statsmodels.stats.proportion import proportions_ztest\n",
    "from scipy.stats import kruskal\n",
    "import scikit_posthocs as sp\n",
    "\n",
    "plt.style.use('ggplot')"
   ]
  },
  {
   "cell_type": "code",
   "execution_count": 53,
   "id": "77487afe-3fe8-4b21-b966-e75d543bdc39",
   "metadata": {},
   "outputs": [
    {
     "data": {
      "text/html": [
       "<div>\n",
       "<style scoped>\n",
       "    .dataframe tbody tr th:only-of-type {\n",
       "        vertical-align: middle;\n",
       "    }\n",
       "\n",
       "    .dataframe tbody tr th {\n",
       "        vertical-align: top;\n",
       "    }\n",
       "\n",
       "    .dataframe thead th {\n",
       "        text-align: right;\n",
       "    }\n",
       "</style>\n",
       "<table border=\"1\" class=\"dataframe\">\n",
       "  <thead>\n",
       "    <tr style=\"text-align: right;\">\n",
       "      <th></th>\n",
       "      <th>user_id</th>\n",
       "      <th>group</th>\n",
       "      <th>converted</th>\n",
       "      <th>session_duration</th>\n",
       "      <th>pages_viewed</th>\n",
       "      <th>device_type</th>\n",
       "      <th>revenue</th>\n",
       "    </tr>\n",
       "  </thead>\n",
       "  <tbody>\n",
       "    <tr>\n",
       "      <th>0</th>\n",
       "      <td>1</td>\n",
       "      <td>A</td>\n",
       "      <td>0</td>\n",
       "      <td>125</td>\n",
       "      <td>3</td>\n",
       "      <td>mobile</td>\n",
       "      <td>0.00</td>\n",
       "    </tr>\n",
       "    <tr>\n",
       "      <th>1</th>\n",
       "      <td>2</td>\n",
       "      <td>A</td>\n",
       "      <td>1</td>\n",
       "      <td>79</td>\n",
       "      <td>2</td>\n",
       "      <td>desktop</td>\n",
       "      <td>41.13</td>\n",
       "    </tr>\n",
       "    <tr>\n",
       "      <th>2</th>\n",
       "      <td>3</td>\n",
       "      <td>A</td>\n",
       "      <td>0</td>\n",
       "      <td>131</td>\n",
       "      <td>1</td>\n",
       "      <td>mobile</td>\n",
       "      <td>0.00</td>\n",
       "    </tr>\n",
       "    <tr>\n",
       "      <th>3</th>\n",
       "      <td>4</td>\n",
       "      <td>A</td>\n",
       "      <td>0</td>\n",
       "      <td>138</td>\n",
       "      <td>1</td>\n",
       "      <td>tablet</td>\n",
       "      <td>0.00</td>\n",
       "    </tr>\n",
       "    <tr>\n",
       "      <th>4</th>\n",
       "      <td>5</td>\n",
       "      <td>A</td>\n",
       "      <td>0</td>\n",
       "      <td>136</td>\n",
       "      <td>1</td>\n",
       "      <td>desktop</td>\n",
       "      <td>0.00</td>\n",
       "    </tr>\n",
       "  </tbody>\n",
       "</table>\n",
       "</div>"
      ],
      "text/plain": [
       "   user_id group  converted  session_duration  pages_viewed device_type  \\\n",
       "0        1     A          0               125             3      mobile   \n",
       "1        2     A          1                79             2     desktop   \n",
       "2        3     A          0               131             1      mobile   \n",
       "3        4     A          0               138             1      tablet   \n",
       "4        5     A          0               136             1     desktop   \n",
       "\n",
       "   revenue  \n",
       "0     0.00  \n",
       "1    41.13  \n",
       "2     0.00  \n",
       "3     0.00  \n",
       "4     0.00  "
      ]
     },
     "execution_count": 53,
     "metadata": {},
     "output_type": "execute_result"
    }
   ],
   "source": [
    "# Loading and examining the dataset\n",
    "df = pd.read_csv('/workspace/ab-testing-simulation/data/ab_test_data.csv')\n",
    "df.head()"
   ]
  },
  {
   "cell_type": "code",
   "execution_count": 54,
   "id": "2046dd81-95b5-4a64-8d00-cdb1841816af",
   "metadata": {
    "scrolled": true
   },
   "outputs": [
    {
     "name": "stdout",
     "output_type": "stream",
     "text": [
      "<class 'pandas.core.frame.DataFrame'>\n",
      "RangeIndex: 2000 entries, 0 to 1999\n",
      "Data columns (total 7 columns):\n",
      " #   Column            Non-Null Count  Dtype  \n",
      "---  ------            --------------  -----  \n",
      " 0   user_id           2000 non-null   int64  \n",
      " 1   group             2000 non-null   object \n",
      " 2   converted         2000 non-null   int64  \n",
      " 3   session_duration  2000 non-null   int64  \n",
      " 4   pages_viewed      2000 non-null   int64  \n",
      " 5   device_type       2000 non-null   object \n",
      " 6   revenue           2000 non-null   float64\n",
      "dtypes: float64(1), int64(4), object(2)\n",
      "memory usage: 109.5+ KB\n"
     ]
    }
   ],
   "source": [
    "# Checking for missing values and viewing summary statistics\n",
    "df.info()"
   ]
  },
  {
   "cell_type": "code",
   "execution_count": 55,
   "id": "d551c734-bef7-4d98-ae8f-6d82c031bbfd",
   "metadata": {
    "scrolled": true
   },
   "outputs": [
    {
     "name": "stdout",
     "output_type": "stream",
     "text": [
      "['mobile' 'desktop' 'tablet']\n",
      "device_type\n",
      "mobile     1224\n",
      "desktop     558\n",
      "tablet      218\n",
      "Name: count, dtype: int64\n"
     ]
    }
   ],
   "source": [
    "# Sanity Check of available device types\n",
    "print(df['device_type'].unique())\n",
    "\n",
    "# Counting the observations for each device type\n",
    "print(df['device_type'].value_counts())"
   ]
  },
  {
   "cell_type": "markdown",
   "id": "44acfd1f-5382-4a3c-9664-0fb602edf417",
   "metadata": {},
   "source": [
    "## Revenue by Device Type: Descriptive Statistics"
   ]
  },
  {
   "cell_type": "code",
   "execution_count": 56,
   "id": "ffa4f5f4-a952-4862-9b1d-ee0ee2e4a6a6",
   "metadata": {},
   "outputs": [
    {
     "data": {
      "image/png": "[encoded data removed]",
      "text/plain": [
       "<Figure size 1000x600 with 1 Axes>"
      ]
     },
     "metadata": {},
     "output_type": "display_data"
    }
   ],
   "source": [
    "# Plotting the Revenue distribution by Device Type and Test Group\n",
    "\n",
    "plt.figure(figsize=(10, 6))\n",
    "sns.violinplot(data=df, x='device_type', y='revenue', palette='Set2', inner='quartile', hue='group')\n",
    "plt.title('Revenue Distribution by Device Type')\n",
    "plt.ylabel('Revenue')\n",
    "plt.xlabel('Device Type')\n",
    "plt.show()"
   ]
  },
  {
   "cell_type": "code",
   "execution_count": 57,
   "id": "3c79462c-5af1-422d-83c8-3b906a391e68",
   "metadata": {},
   "outputs": [
    {
     "data": {
      "text/html": [
       "<div>\n",
       "<style scoped>\n",
       "    .dataframe tbody tr th:only-of-type {\n",
       "        vertical-align: middle;\n",
       "    }\n",
       "\n",
       "    .dataframe tbody tr th {\n",
       "        vertical-align: top;\n",
       "    }\n",
       "\n",
       "    .dataframe thead th {\n",
       "        text-align: right;\n",
       "    }\n",
       "</style>\n",
       "<table border=\"1\" class=\"dataframe\">\n",
       "  <thead>\n",
       "    <tr style=\"text-align: right;\">\n",
       "      <th></th>\n",
       "      <th></th>\n",
       "      <th>count</th>\n",
       "      <th>mean</th>\n",
       "      <th>median</th>\n",
       "      <th>std</th>\n",
       "      <th>min</th>\n",
       "      <th>max</th>\n",
       "    </tr>\n",
       "    <tr>\n",
       "      <th>device_type</th>\n",
       "      <th>group</th>\n",
       "      <th></th>\n",
       "      <th></th>\n",
       "      <th></th>\n",
       "      <th></th>\n",
       "      <th></th>\n",
       "      <th></th>\n",
       "    </tr>\n",
       "  </thead>\n",
       "  <tbody>\n",
       "    <tr>\n",
       "      <th rowspan=\"2\" valign=\"top\">desktop</th>\n",
       "      <th>A</th>\n",
       "      <td>272</td>\n",
       "      <td>5.27</td>\n",
       "      <td>0.0</td>\n",
       "      <td>13.40</td>\n",
       "      <td>0.0</td>\n",
       "      <td>58.38</td>\n",
       "    </tr>\n",
       "    <tr>\n",
       "      <th>B</th>\n",
       "      <td>286</td>\n",
       "      <td>6.09</td>\n",
       "      <td>0.0</td>\n",
       "      <td>14.29</td>\n",
       "      <td>0.0</td>\n",
       "      <td>51.58</td>\n",
       "    </tr>\n",
       "    <tr>\n",
       "      <th rowspan=\"2\" valign=\"top\">mobile</th>\n",
       "      <th>A</th>\n",
       "      <td>618</td>\n",
       "      <td>3.80</td>\n",
       "      <td>0.0</td>\n",
       "      <td>11.13</td>\n",
       "      <td>0.0</td>\n",
       "      <td>59.92</td>\n",
       "    </tr>\n",
       "    <tr>\n",
       "      <th>B</th>\n",
       "      <td>606</td>\n",
       "      <td>3.93</td>\n",
       "      <td>0.0</td>\n",
       "      <td>11.27</td>\n",
       "      <td>0.0</td>\n",
       "      <td>53.65</td>\n",
       "    </tr>\n",
       "    <tr>\n",
       "      <th rowspan=\"2\" valign=\"top\">tablet</th>\n",
       "      <th>A</th>\n",
       "      <td>110</td>\n",
       "      <td>4.24</td>\n",
       "      <td>0.0</td>\n",
       "      <td>12.11</td>\n",
       "      <td>0.0</td>\n",
       "      <td>54.53</td>\n",
       "    </tr>\n",
       "    <tr>\n",
       "      <th>B</th>\n",
       "      <td>108</td>\n",
       "      <td>3.00</td>\n",
       "      <td>0.0</td>\n",
       "      <td>9.41</td>\n",
       "      <td>0.0</td>\n",
       "      <td>49.77</td>\n",
       "    </tr>\n",
       "  </tbody>\n",
       "</table>\n",
       "</div>"
      ],
      "text/plain": [
       "                   count  mean  median    std  min    max\n",
       "device_type group                                        \n",
       "desktop     A        272  5.27     0.0  13.40  0.0  58.38\n",
       "            B        286  6.09     0.0  14.29  0.0  51.58\n",
       "mobile      A        618  3.80     0.0  11.13  0.0  59.92\n",
       "            B        606  3.93     0.0  11.27  0.0  53.65\n",
       "tablet      A        110  4.24     0.0  12.11  0.0  54.53\n",
       "            B        108  3.00     0.0   9.41  0.0  49.77"
      ]
     },
     "metadata": {},
     "output_type": "display_data"
    }
   ],
   "source": [
    "# Generating Descriptive statistics for Revenue by Device Type and Test Group\n",
    "\n",
    "revenue_stats = df.groupby(['device_type', 'group'])['revenue'].agg(\n",
    "    count='count',\n",
    "    mean='mean',\n",
    "    median='median',\n",
    "    std='std',\n",
    "    min='min',\n",
    "    max='max'\n",
    ").round(2)\n",
    "\n",
    "\n",
    "display(revenue_stats)\n"
   ]
  },
  {
   "cell_type": "markdown",
   "id": "93291941-378c-4710-bb14-e2c99091e964",
   "metadata": {},
   "source": [
    "- The median revenue is 0.0 across all segments, indicating a large proportion of users made no purchases.\n",
    "\n",
    "- Standard deviations are high relative to the means, reflecting a skewed distribution with occasional large purchases.\n",
    "\n",
    "- The highest (average) revenue per user is seen on desktop, followed by tablet, then mobile.\n",
    "\n",
    "- Desktop-Group B shows slightly higher average revenue, but both groups have high variance and zero median (many non purchases).\n",
    "\n",
    "- Revenue is lower overall on mobile vs. desktop, and again Group B slightly outperforms A.\n",
    "\n",
    "- Tablet-Group A performs better than Group B, unlike the other devices"
   ]
  },
  {
   "cell_type": "markdown",
   "id": "71a999e0-d086-4a73-b057-72eff140726c",
   "metadata": {},
   "source": [
    "## Revenue by Device Type: Normality Test (Shapiro-Wilk Test)"
   ]
  },
  {
   "cell_type": "code",
   "execution_count": 58,
   "id": "e4d32520-0bd4-4eb8-b86c-5fff72a0ce0c",
   "metadata": {},
   "outputs": [
    {
     "name": "stdout",
     "output_type": "stream",
     "text": [
      "Shapiro-Wilk Normality Test for Revenue (by Device):\n",
      "Mobile: W=0.3862, p=0.0000\n",
      "Desktop: W=0.4554, p=0.0000\n",
      "Tablet: W=0.3753, p=0.0000\n"
     ]
    }
   ],
   "source": [
    "# Performing Shapiro-Wilk Normality Test per Device Type\n",
    "\n",
    "print(\"Shapiro-Wilk Normality Test for Revenue (by Device):\")\n",
    "for device in df['device_type'].unique():\n",
    "    revenue_data = df[df['device_type'] == device]['revenue']\n",
    "    stat, p = shapiro(revenue_data)\n",
    "    print(f\"{device.capitalize()}: W={stat:.4f}, p={p:.4f}\")"
   ]
  },
  {
   "cell_type": "markdown",
   "id": "a211ff83-9832-437d-acb1-5d8fd2771253",
   "metadata": {},
   "source": [
    "- Since all p-values are well below 0.05, we have to reject the null hypothesis of normality for all three device types. This confirms that the revenue data is not normally distributed across any device type.\n",
    "\n",
    "- Therefore we should avoid conducting an Analysis of Variance (ANOVA - which assumes normality) and instead use a non-parametric test such as the Kruskal-Wallis H test (known also as one-way ANOVA, which is a non-parametric equivalent of ANOVA for >2 groups)"
   ]
  },
  {
   "cell_type": "markdown",
   "id": "40efb84f-5e29-4aa1-920c-02ee2ec4162e",
   "metadata": {},
   "source": [
    "## Revenue by Device Type: Hypothesis Testing (Kruskal-Wallis Test)"
   ]
  },
  {
   "cell_type": "code",
   "execution_count": 59,
   "id": "fb3c5c8b-1b5f-447c-a65f-a2b1e9d33a30",
   "metadata": {},
   "outputs": [
    {
     "name": "stdout",
     "output_type": "stream",
     "text": [
      "Kruskal-Wallis H-Test for Revenue (by Device Type)\n",
      "H-statistic: 7.50\n",
      "P-value: 0.0235\n"
     ]
    }
   ],
   "source": [
    "# Subsetting Revenue data by device type\n",
    "\n",
    "revenue_mobile = df[df['device_type'] == 'mobile']['revenue']\n",
    "revenue_desktop = df[df['device_type'] == 'desktop']['revenue']\n",
    "revenue_tablet = df[df['device_type'] == 'tablet']['revenue']\n",
    "\n",
    "# Running Kruskal-Wallis Test\n",
    "h_stat, p_val = kruskal(revenue_mobile, revenue_desktop, revenue_tablet)\n",
    "\n",
    "print(\"Kruskal-Wallis H-Test for Revenue (by Device Type)\")\n",
    "print(f\"H-statistic: {h_stat:.2f}\")\n",
    "print(f\"P-value: {p_val:.4f}\")\n"
   ]
  },
  {
   "cell_type": "markdown",
   "id": "3958c187-9eab-4f30-9192-e0c5869361f6",
   "metadata": {},
   "source": [
    "- The p-value is less than 0.05, accordingly we have to reject the null hypothesis. Meaning, that there is a statistically significant difference in revenue distributions across at least one device group (mobile, desktop, or tablet).\n",
    "\n",
    "- Thus, the next step would be to identify which device types differ, we should therefore run a post-hoc pairwise comparisons using a test like Dunn’s test with Bonferroni correction."
   ]
  },
  {
   "cell_type": "markdown",
   "id": "ebb70f76-3ece-4b5d-a791-55c8e4965627",
   "metadata": {},
   "source": [
    "## Revenue by Device Type: Hypothesis Testing (Dunn’s test with Bonferroni correction)"
   ]
  },
  {
   "cell_type": "code",
   "execution_count": 60,
   "id": "66342892-c5a0-4ff3-82cf-1dedb7b8f359",
   "metadata": {},
   "outputs": [
    {
     "data": {
      "text/html": [
       "<div>\n",
       "<style scoped>\n",
       "    .dataframe tbody tr th:only-of-type {\n",
       "        vertical-align: middle;\n",
       "    }\n",
       "\n",
       "    .dataframe tbody tr th {\n",
       "        vertical-align: top;\n",
       "    }\n",
       "\n",
       "    .dataframe thead th {\n",
       "        text-align: right;\n",
       "    }\n",
       "</style>\n",
       "<table border=\"1\" class=\"dataframe\">\n",
       "  <thead>\n",
       "    <tr style=\"text-align: right;\">\n",
       "      <th></th>\n",
       "      <th>desktop</th>\n",
       "      <th>mobile</th>\n",
       "      <th>tablet</th>\n",
       "    </tr>\n",
       "  </thead>\n",
       "  <tbody>\n",
       "    <tr>\n",
       "      <th>desktop</th>\n",
       "      <td>1.000000</td>\n",
       "      <td>0.026897</td>\n",
       "      <td>0.178511</td>\n",
       "    </tr>\n",
       "    <tr>\n",
       "      <th>mobile</th>\n",
       "      <td>0.026897</td>\n",
       "      <td>1.000000</td>\n",
       "      <td>1.000000</td>\n",
       "    </tr>\n",
       "    <tr>\n",
       "      <th>tablet</th>\n",
       "      <td>0.178511</td>\n",
       "      <td>1.000000</td>\n",
       "      <td>1.000000</td>\n",
       "    </tr>\n",
       "  </tbody>\n",
       "</table>\n",
       "</div>"
      ],
      "text/plain": [
       "          desktop    mobile    tablet\n",
       "desktop  1.000000  0.026897  0.178511\n",
       "mobile   0.026897  1.000000  1.000000\n",
       "tablet   0.178511  1.000000  1.000000"
      ]
     },
     "execution_count": 60,
     "metadata": {},
     "output_type": "execute_result"
    }
   ],
   "source": [
    "# Combining the data for post-hoc test\n",
    "revenue_by_device = df[['device_type', 'revenue']]\n",
    "\n",
    "# Performing Dunn’s post-hoc test with Bonferroni correction\n",
    "posthoc_results = sp.posthoc_dunn(revenue_by_device, val_col='revenue', group_col='device_type', p_adjust='bonferroni')\n",
    "posthoc_results"
   ]
  },
  {
   "cell_type": "markdown",
   "id": "9dd87995-eacd-435d-ac1c-955d1fbf725f",
   "metadata": {},
   "source": [
    "- The p-value = 0.0269 for the Mobile vs. Desktop Revenue comparison is statistically significant (p < 0.05). Meaning that desktop users significantly generate more revenue than those on mobile.\n",
    "\n",
    "- In terms of Mobile vs. Tablet Revenue comparison, no difference in revenue between mobile and tablet users is observed. The same applies when comparing the Revenue between Desktop vs. Tablet.\n",
    "\n",
    "- Therefore Desktop users stand out as the only group generating significantly more revenue than mobile users."
   ]
  },
  {
   "cell_type": "markdown",
   "id": "073f7de0-0f8f-45e7-b5eb-685dce01f5de",
   "metadata": {},
   "source": [
    "## Session Duration by Device Type: Descriptive Statistics"
   ]
  },
  {
   "cell_type": "code",
   "execution_count": 61,
   "id": "b9b85280-796e-4f6f-86e9-a72026994e23",
   "metadata": {},
   "outputs": [
    {
     "data": {
      "image/png": "[encoded data removed]",
      "text/plain": [
       "<Figure size 1000x600 with 1 Axes>"
      ]
     },
     "metadata": {},
     "output_type": "display_data"
    }
   ],
   "source": [
    "# Plotting the Session Duration distribution by Device Type and Test Group\n",
    "\n",
    "plt.figure(figsize=(10, 6))\n",
    "sns.boxplot(data=df, x='device_type', y='session_duration', hue='group', palette='pastel')\n",
    "plt.title('Session Duration Distribution by Device Type')\n",
    "plt.ylabel('Session Duration (minutes)')\n",
    "plt.xlabel('Device Type')\n",
    "plt.legend(title='Group')\n",
    "plt.show()\n"
   ]
  },
  {
   "cell_type": "code",
   "execution_count": 62,
   "id": "26e9b49e-6214-4ca0-b986-bdb3e4d2eec6",
   "metadata": {},
   "outputs": [
    {
     "data": {
      "text/html": [
       "<div>\n",
       "<style scoped>\n",
       "    .dataframe tbody tr th:only-of-type {\n",
       "        vertical-align: middle;\n",
       "    }\n",
       "\n",
       "    .dataframe tbody tr th {\n",
       "        vertical-align: top;\n",
       "    }\n",
       "\n",
       "    .dataframe thead th {\n",
       "        text-align: right;\n",
       "    }\n",
       "</style>\n",
       "<table border=\"1\" class=\"dataframe\">\n",
       "  <thead>\n",
       "    <tr style=\"text-align: right;\">\n",
       "      <th></th>\n",
       "      <th></th>\n",
       "      <th>count</th>\n",
       "      <th>mean</th>\n",
       "      <th>median</th>\n",
       "      <th>std</th>\n",
       "      <th>min</th>\n",
       "      <th>max</th>\n",
       "    </tr>\n",
       "    <tr>\n",
       "      <th>device_type</th>\n",
       "      <th>group</th>\n",
       "      <th></th>\n",
       "      <th></th>\n",
       "      <th></th>\n",
       "      <th></th>\n",
       "      <th></th>\n",
       "      <th></th>\n",
       "    </tr>\n",
       "  </thead>\n",
       "  <tbody>\n",
       "    <tr>\n",
       "      <th rowspan=\"2\" valign=\"top\">desktop</th>\n",
       "      <th>A</th>\n",
       "      <td>272</td>\n",
       "      <td>122.27</td>\n",
       "      <td>123.0</td>\n",
       "      <td>27.99</td>\n",
       "      <td>32</td>\n",
       "      <td>189</td>\n",
       "    </tr>\n",
       "    <tr>\n",
       "      <th>B</th>\n",
       "      <td>286</td>\n",
       "      <td>134.49</td>\n",
       "      <td>136.5</td>\n",
       "      <td>32.26</td>\n",
       "      <td>19</td>\n",
       "      <td>224</td>\n",
       "    </tr>\n",
       "    <tr>\n",
       "      <th rowspan=\"2\" valign=\"top\">mobile</th>\n",
       "      <th>A</th>\n",
       "      <td>618</td>\n",
       "      <td>122.52</td>\n",
       "      <td>122.0</td>\n",
       "      <td>30.57</td>\n",
       "      <td>33</td>\n",
       "      <td>198</td>\n",
       "    </tr>\n",
       "    <tr>\n",
       "      <th>B</th>\n",
       "      <td>606</td>\n",
       "      <td>135.26</td>\n",
       "      <td>134.0</td>\n",
       "      <td>31.42</td>\n",
       "      <td>26</td>\n",
       "      <td>236</td>\n",
       "    </tr>\n",
       "    <tr>\n",
       "      <th rowspan=\"2\" valign=\"top\">tablet</th>\n",
       "      <th>A</th>\n",
       "      <td>110</td>\n",
       "      <td>122.60</td>\n",
       "      <td>119.5</td>\n",
       "      <td>28.82</td>\n",
       "      <td>61</td>\n",
       "      <td>215</td>\n",
       "    </tr>\n",
       "    <tr>\n",
       "      <th>B</th>\n",
       "      <td>108</td>\n",
       "      <td>134.66</td>\n",
       "      <td>135.5</td>\n",
       "      <td>28.49</td>\n",
       "      <td>40</td>\n",
       "      <td>207</td>\n",
       "    </tr>\n",
       "  </tbody>\n",
       "</table>\n",
       "</div>"
      ],
      "text/plain": [
       "                   count    mean  median    std  min  max\n",
       "device_type group                                        \n",
       "desktop     A        272  122.27   123.0  27.99   32  189\n",
       "            B        286  134.49   136.5  32.26   19  224\n",
       "mobile      A        618  122.52   122.0  30.57   33  198\n",
       "            B        606  135.26   134.0  31.42   26  236\n",
       "tablet      A        110  122.60   119.5  28.82   61  215\n",
       "            B        108  134.66   135.5  28.49   40  207"
      ]
     },
     "metadata": {},
     "output_type": "display_data"
    }
   ],
   "source": [
    "# Generating Descriptive statistics for Session Duration by Device Type and Test Group\n",
    "\n",
    "session_stats = df.groupby(['device_type', 'group'])['session_duration'].agg(\n",
    "    count='count',\n",
    "    mean='mean',\n",
    "    median='median',\n",
    "    std='std',\n",
    "    min='min',\n",
    "    max='max'\n",
    ").round(2)\n",
    "\n",
    "\n",
    "display(session_stats)"
   ]
  },
  {
   "cell_type": "markdown",
   "id": "9681c65e-3c3d-4517-8dac-0b2c5fa17851",
   "metadata": {},
   "source": [
    "- Group B subjects consistently shows longer session durations across all device types compared to Group A.\n",
    "\n",
    "- The median values match the mean trend in each case, which often indicates symmetry in the data distributions.\n",
    "\n",
    "- Standard deviation is slightly higher in Group B, which may suggest more variability in session durations there."
   ]
  },
  {
   "cell_type": "markdown",
   "id": "a19a9b40-de26-40d7-a21d-50fd9aa9d696",
   "metadata": {},
   "source": [
    "## Session Duration by Device Type: Normality Test (Shapiro-Wilk Test)"
   ]
  },
  {
   "cell_type": "code",
   "execution_count": 63,
   "id": "87c330f2-79a1-4af6-a163-13ceef95b380",
   "metadata": {},
   "outputs": [
    {
     "name": "stdout",
     "output_type": "stream",
     "text": [
      "Shapiro-Wilk Normality Test for Session Duration (by Device):\n",
      "Mobile: W=0.9987, p=0.5178\n",
      "Desktop: W=0.9926, p=0.0072\n",
      "Tablet: W=0.9974, p=0.9765\n"
     ]
    }
   ],
   "source": [
    "# Performing Shapiro-Wilk Normality Test per Device Type\n",
    "\n",
    "print(\"Shapiro-Wilk Normality Test for Session Duration (by Device):\")\n",
    "for device in df['device_type'].unique():\n",
    "    session_data = df[df['device_type'] == device]['session_duration']\n",
    "    stat, p = shapiro(session_data)\n",
    "    print(f\"{device.capitalize()}: W={stat:.4f}, p={p:.4f}\")"
   ]
  },
  {
   "cell_type": "markdown",
   "id": "060166bf-6a26-4173-bcde-3f847dc95df0",
   "metadata": {},
   "source": [
    "- Mobile and Tablet session durations are normally distributed, so parametric tests (like t-test or ANOVA) are valid for these.\n",
    "\n",
    "- However, Desktop shows a significant deviation from normality (p < 0.05). Hence, we should avoid parametric tests for the full comparison across device types, since we're comparing three groups and at least one does not meet the normality assumption.\n",
    "\n",
    "- Accordingly, we should again use a non-parametric test such as the Kruskal-Wallis H test."
   ]
  },
  {
   "cell_type": "markdown",
   "id": "a0c14393-13a7-4615-8839-489d9912cee5",
   "metadata": {},
   "source": [
    "## Session Duration by Device Type: Hypothesis Testing (Kruskal-Wallis Test)"
   ]
  },
  {
   "cell_type": "code",
   "execution_count": 64,
   "id": "0d2f5f47-aa7d-446e-b9f0-a4f270fe8cc7",
   "metadata": {},
   "outputs": [
    {
     "name": "stdout",
     "output_type": "stream",
     "text": [
      "Kruskal-Wallis H-Test for Session Duration (by Device Type)\n",
      "H-statistic: 0.13\n",
      "P-value: 0.9378\n"
     ]
    }
   ],
   "source": [
    "# Splitting Session Duration data by Device Type\n",
    "\n",
    "desktop_sessions = df[df['device_type'] == 'desktop']['session_duration']\n",
    "mobile_sessions = df[df['device_type'] == 'mobile']['session_duration']\n",
    "tablet_sessions = df[df['device_type'] == 'tablet']['session_duration']\n",
    "\n",
    "# Running Kruskal-Wallis Test\n",
    "h_stat, p_value = kruskal(desktop_sessions, mobile_sessions, tablet_sessions)\n",
    "\n",
    "print(\"Kruskal-Wallis H-Test for Session Duration (by Device Type)\")\n",
    "print(f\"H-statistic: {h_stat:.2f}\")\n",
    "print(f\"P-value: {p_value:.4f}\")\n"
   ]
  },
  {
   "cell_type": "markdown",
   "id": "6a42778d-3f43-45f8-ac7a-da8c8bd53a92",
   "metadata": {},
   "source": [
    "- The p-value is much greater than 0.05, accordingly we cannot reject the null hypothesis. there is no statistically significant difference in session durations between users on mobile, desktop, and tablet devices.\n",
    "\n",
    "- Despite slightly different means in the descriptive stats, these differences are not strong enough to be considered meaningful from a statistical point of view."
   ]
  },
  {
   "cell_type": "markdown",
   "id": "c3c03d9e-aa5f-44ed-b408-807ba9f2973f",
   "metadata": {},
   "source": [
    "## Pages Viewed by Device Type: Descriptive Statistics"
   ]
  },
  {
   "cell_type": "code",
   "execution_count": 65,
   "id": "2489a26b-39ff-429e-b603-74e8753937a6",
   "metadata": {},
   "outputs": [
    {
     "data": {
      "image/png": "[encoded data removed]",
      "text/plain": [
       "<Figure size 1000x600 with 1 Axes>"
      ]
     },
     "metadata": {},
     "output_type": "display_data"
    }
   ],
   "source": [
    "# Plotting the Pages Viewed distribution by Device Type and Test Group\n",
    "\n",
    "plt.figure(figsize=(10, 6))\n",
    "sns.boxplot(data=df, x='device_type', y='pages_viewed', hue='group', palette='pastel')\n",
    "plt.title('Pages Viewed Distribution by Device Type')\n",
    "plt.ylabel('Pages Viewed')\n",
    "plt.xlabel('Device Type')\n",
    "plt.legend(title='Group')\n",
    "plt.show()\n"
   ]
  },
  {
   "cell_type": "code",
   "execution_count": 66,
   "id": "43354177-1307-470f-ac0c-ab7ccc3814d7",
   "metadata": {},
   "outputs": [
    {
     "data": {
      "text/html": [
       "<div>\n",
       "<style scoped>\n",
       "    .dataframe tbody tr th:only-of-type {\n",
       "        vertical-align: middle;\n",
       "    }\n",
       "\n",
       "    .dataframe tbody tr th {\n",
       "        vertical-align: top;\n",
       "    }\n",
       "\n",
       "    .dataframe thead th {\n",
       "        text-align: right;\n",
       "    }\n",
       "</style>\n",
       "<table border=\"1\" class=\"dataframe\">\n",
       "  <thead>\n",
       "    <tr style=\"text-align: right;\">\n",
       "      <th></th>\n",
       "      <th></th>\n",
       "      <th>count</th>\n",
       "      <th>mean</th>\n",
       "      <th>median</th>\n",
       "      <th>std</th>\n",
       "      <th>min</th>\n",
       "      <th>max</th>\n",
       "    </tr>\n",
       "    <tr>\n",
       "      <th>device_type</th>\n",
       "      <th>group</th>\n",
       "      <th></th>\n",
       "      <th></th>\n",
       "      <th></th>\n",
       "      <th></th>\n",
       "      <th></th>\n",
       "      <th></th>\n",
       "    </tr>\n",
       "  </thead>\n",
       "  <tbody>\n",
       "    <tr>\n",
       "      <th rowspan=\"2\" valign=\"top\">desktop</th>\n",
       "      <th>A</th>\n",
       "      <td>272</td>\n",
       "      <td>2.99</td>\n",
       "      <td>3.0</td>\n",
       "      <td>1.58</td>\n",
       "      <td>1</td>\n",
       "      <td>8</td>\n",
       "    </tr>\n",
       "    <tr>\n",
       "      <th>B</th>\n",
       "      <td>286</td>\n",
       "      <td>3.68</td>\n",
       "      <td>3.0</td>\n",
       "      <td>1.88</td>\n",
       "      <td>1</td>\n",
       "      <td>9</td>\n",
       "    </tr>\n",
       "    <tr>\n",
       "      <th rowspan=\"2\" valign=\"top\">mobile</th>\n",
       "      <th>A</th>\n",
       "      <td>618</td>\n",
       "      <td>3.02</td>\n",
       "      <td>3.0</td>\n",
       "      <td>1.58</td>\n",
       "      <td>1</td>\n",
       "      <td>9</td>\n",
       "    </tr>\n",
       "    <tr>\n",
       "      <th>B</th>\n",
       "      <td>606</td>\n",
       "      <td>4.04</td>\n",
       "      <td>4.0</td>\n",
       "      <td>1.98</td>\n",
       "      <td>1</td>\n",
       "      <td>10</td>\n",
       "    </tr>\n",
       "    <tr>\n",
       "      <th rowspan=\"2\" valign=\"top\">tablet</th>\n",
       "      <th>A</th>\n",
       "      <td>110</td>\n",
       "      <td>2.77</td>\n",
       "      <td>2.0</td>\n",
       "      <td>1.62</td>\n",
       "      <td>1</td>\n",
       "      <td>7</td>\n",
       "    </tr>\n",
       "    <tr>\n",
       "      <th>B</th>\n",
       "      <td>108</td>\n",
       "      <td>4.20</td>\n",
       "      <td>4.0</td>\n",
       "      <td>2.31</td>\n",
       "      <td>1</td>\n",
       "      <td>13</td>\n",
       "    </tr>\n",
       "  </tbody>\n",
       "</table>\n",
       "</div>"
      ],
      "text/plain": [
       "                   count  mean  median   std  min  max\n",
       "device_type group                                     \n",
       "desktop     A        272  2.99     3.0  1.58    1    8\n",
       "            B        286  3.68     3.0  1.88    1    9\n",
       "mobile      A        618  3.02     3.0  1.58    1    9\n",
       "            B        606  4.04     4.0  1.98    1   10\n",
       "tablet      A        110  2.77     2.0  1.62    1    7\n",
       "            B        108  4.20     4.0  2.31    1   13"
      ]
     },
     "metadata": {},
     "output_type": "display_data"
    }
   ],
   "source": [
    "# Generating Descriptive statistics for Pages Viewed by Device Type and Test Group\n",
    "\n",
    "pages_stats = df.groupby(['device_type', 'group'])['pages_viewed'].agg(\n",
    "    count='count',\n",
    "    mean='mean',\n",
    "    median='median',\n",
    "    std='std',\n",
    "    min='min',\n",
    "    max='max'\n",
    ").round(2)\n",
    "\n",
    "\n",
    "display(pages_stats)"
   ]
  },
  {
   "cell_type": "markdown",
   "id": "41625680-4dfa-4dfb-9bd2-ec726a3df0d6",
   "metadata": {},
   "source": [
    "- Group B subjects consistently outperform A subjects across all device types in terms of pages viewed. Evident ib both the descriptive statistics and the distribution plot of the Pages Viewed."
   ]
  },
  {
   "cell_type": "markdown",
   "id": "2019c268-a75f-463e-a84e-60677b2db74a",
   "metadata": {},
   "source": [
    "## Pages Viewed by Device Type: Normality Test (Shapiro-Wilk Test)"
   ]
  },
  {
   "cell_type": "code",
   "execution_count": 67,
   "id": "b5d0048f-577a-4623-9d7e-60dfd84babe3",
   "metadata": {},
   "outputs": [
    {
     "name": "stdout",
     "output_type": "stream",
     "text": [
      "Shapiro-Wilk Normality Test for Pages Viewed (by Device):\n",
      "Mobile: W=0.9330, p=0.0000\n",
      "Desktop: W=0.9285, p=0.0000\n",
      "Tablet: W=0.8970, p=0.0000\n"
     ]
    }
   ],
   "source": [
    "# Performing Shapiro-Wilk Normality Test per Device Type\n",
    "\n",
    "print(\"Shapiro-Wilk Normality Test for Pages Viewed (by Device):\")\n",
    "for device in df['device_type'].unique():\n",
    "    pages_data = df[df['device_type'] == device]['pages_viewed']\n",
    "    stat, p = shapiro(pages_data)\n",
    "    print(f\"{device.capitalize()}: W={stat:.4f}, p={p:.4f}\")"
   ]
  },
  {
   "cell_type": "markdown",
   "id": "da65beb9-f45e-42b1-ab5f-a5eb0fe2d851",
   "metadata": {},
   "source": [
    "- Since all p-values are below 0.05, we have to reject the null hypothesis of normality. Meaning, none of the device groups follow a normal distribution for the Pages Viewed metric.\n",
    "\n",
    "- Thus, we have again to resort to a non-parametric test, in order to indentify potential significant differences among device types."
   ]
  },
  {
   "cell_type": "markdown",
   "id": "25e5fd48-89e6-4ed7-9501-536534cd2f1c",
   "metadata": {},
   "source": [
    "## Pages Viewed by Device Type: Hypothesis Testing (Kruskal-Wallis Test)"
   ]
  },
  {
   "cell_type": "code",
   "execution_count": 68,
   "id": "1255455d-269f-40c5-8935-c477bcc5d6f7",
   "metadata": {},
   "outputs": [
    {
     "name": "stdout",
     "output_type": "stream",
     "text": [
      "Kruskal-Wallis H-Test for Pages Viewed (by Device Type)\n",
      "H-statistic: 3.48\n",
      "P-value: 0.1756\n"
     ]
    }
   ],
   "source": [
    "# Splitting Pages Viewed data by Device Type\n",
    "\n",
    "desktop_pages = df[df['device_type'] == 'desktop']['pages_viewed']\n",
    "mobile_pages = df[df['device_type'] == 'mobile']['pages_viewed']\n",
    "tablet_pages = df[df['device_type'] == 'tablet']['pages_viewed']\n",
    "\n",
    "# Running Kruskal-Wallis Test\n",
    "h_stat, p_value = kruskal(desktop_pages, mobile_pages, tablet_pages)\n",
    "\n",
    "print(\"Kruskal-Wallis H-Test for Pages Viewed (by Device Type)\")\n",
    "print(f\"H-statistic: {h_stat:.2f}\")\n",
    "print(f\"P-value: {p_value:.4f}\")\n"
   ]
  },
  {
   "cell_type": "markdown",
   "id": "7226b1aa-7ee6-4463-8d32-41cc205ae175",
   "metadata": {},
   "source": [
    "- The p-value (0.1756) is greater than 0.05, meaning that we cannot reject the null hypothesis. This means that there is no statistically significant difference in the number of pages viewed between desktop, mobile, and tablet users.\n",
    "\n",
    "- While Group B had higher average page views across all devices (as seen in the descriptive statistics), the differences are not strong enough to be statistically significant based on device type alone."
   ]
  },
  {
   "cell_type": "markdown",
   "id": "c3422123-1279-46bb-9041-8aaeeca8371f",
   "metadata": {},
   "source": [
    "## Conversion Rate by Device Type: Descriptive Statistics"
   ]
  },
  {
   "cell_type": "code",
   "execution_count": 87,
   "id": "9762dd13-e526-4146-adab-8412f1d14f51",
   "metadata": {},
   "outputs": [
    {
     "data": {
      "image/png": "[encoded data removed]",
      "text/plain": [
       "<Figure size 1000x600 with 1 Axes>"
      ]
     },
     "metadata": {},
     "output_type": "display_data"
    }
   ],
   "source": [
    "# Plotting Conversion Rates by Device Type and Group\n",
    "\n",
    "plt.figure(figsize=(10, 6))\n",
    "sns.barplot(\n",
    "    data=conversion_stats,\n",
    "    x='device_type',\n",
    "    y='conversion_rate',\n",
    "    hue='group',\n",
    "    palette='pastel'\n",
    ")\n",
    "plt.title('Conversion Rate by Device Type')\n",
    "plt.ylabel('Conversion Rate')\n",
    "plt.xlabel('Device Type')\n",
    "plt.legend(title='Group')\n",
    "plt.show()"
   ]
  },
  {
   "cell_type": "code",
   "execution_count": 82,
   "id": "d02e4564-4233-47ce-a731-d6cdf844e9b0",
   "metadata": {},
   "outputs": [
    {
     "data": {
      "text/html": [
       "<div>\n",
       "<style scoped>\n",
       "    .dataframe tbody tr th:only-of-type {\n",
       "        vertical-align: middle;\n",
       "    }\n",
       "\n",
       "    .dataframe tbody tr th {\n",
       "        vertical-align: top;\n",
       "    }\n",
       "\n",
       "    .dataframe thead th {\n",
       "        text-align: right;\n",
       "    }\n",
       "</style>\n",
       "<table border=\"1\" class=\"dataframe\">\n",
       "  <thead>\n",
       "    <tr style=\"text-align: right;\">\n",
       "      <th></th>\n",
       "      <th></th>\n",
       "      <th>users</th>\n",
       "      <th>converted</th>\n",
       "      <th>conversion_rate</th>\n",
       "    </tr>\n",
       "    <tr>\n",
       "      <th>device_type</th>\n",
       "      <th>group</th>\n",
       "      <th></th>\n",
       "      <th></th>\n",
       "      <th></th>\n",
       "    </tr>\n",
       "  </thead>\n",
       "  <tbody>\n",
       "    <tr>\n",
       "      <th rowspan=\"2\" valign=\"top\">desktop</th>\n",
       "      <th>A</th>\n",
       "      <td>272</td>\n",
       "      <td>40</td>\n",
       "      <td>0.15</td>\n",
       "    </tr>\n",
       "    <tr>\n",
       "      <th>B</th>\n",
       "      <td>286</td>\n",
       "      <td>47</td>\n",
       "      <td>0.16</td>\n",
       "    </tr>\n",
       "    <tr>\n",
       "      <th rowspan=\"2\" valign=\"top\">mobile</th>\n",
       "      <th>A</th>\n",
       "      <td>618</td>\n",
       "      <td>71</td>\n",
       "      <td>0.11</td>\n",
       "    </tr>\n",
       "    <tr>\n",
       "      <th>B</th>\n",
       "      <td>606</td>\n",
       "      <td>70</td>\n",
       "      <td>0.12</td>\n",
       "    </tr>\n",
       "    <tr>\n",
       "      <th rowspan=\"2\" valign=\"top\">tablet</th>\n",
       "      <th>A</th>\n",
       "      <td>110</td>\n",
       "      <td>13</td>\n",
       "      <td>0.12</td>\n",
       "    </tr>\n",
       "    <tr>\n",
       "      <th>B</th>\n",
       "      <td>108</td>\n",
       "      <td>11</td>\n",
       "      <td>0.10</td>\n",
       "    </tr>\n",
       "  </tbody>\n",
       "</table>\n",
       "</div>"
      ],
      "text/plain": [
       "                   users  converted  conversion_rate\n",
       "device_type group                                   \n",
       "desktop     A        272         40             0.15\n",
       "            B        286         47             0.16\n",
       "mobile      A        618         71             0.11\n",
       "            B        606         70             0.12\n",
       "tablet      A        110         13             0.12\n",
       "            B        108         11             0.10"
      ]
     },
     "metadata": {},
     "output_type": "display_data"
    }
   ],
   "source": [
    "# Calculating conversion Rates by Group and Device Type\n",
    "\n",
    "conversion_stats = (\n",
    "    df.groupby(['device_type', 'group'])['converted']\n",
    "    .agg(['count', 'sum'])\n",
    "    .rename(columns={'count': 'users', 'sum': 'converted'})\n",
    "    .assign(conversion_rate=lambda x: x['converted'] / x['users']).round(2)\n",
    ")\n",
    "\n",
    "display(conversion_stats)"
   ]
  },
  {
   "cell_type": "markdown",
   "id": "22d46f89-8c6a-46e4-b0f1-ddfe5b5e0224",
   "metadata": {},
   "source": [
    "- In terms of Desktop users Conversion Rates are very close. Group B shows a slight improvement, but the difference is rather minor.\n",
    "\n",
    "- As for Mobile users, despite similar absolute conversions, Group B converts at a slightly higher rate. Mobile users show lower Conversion Rates overall compared to desktop.\n",
    "\n",
    "- Tablet users in comparison, indicate a slightly higher Conversion Rate among Group A subjects compared to Group B, which is opposite to the Desktop and Mobile trends.\n",
    "\n",
    "- Generally:\n",
    "    - Desktop users convert more often overall than mobile or tablet users.\n",
    "    - The differences between A and B are relatively small in each device category.\n",
    "    - We will require statistical testing (Chi-Square test) to confirm whether these differences are significant or not."
   ]
  },
  {
   "cell_type": "code",
   "execution_count": null,
   "id": "2b130606-aa1f-4814-9434-8e3fc393ae70",
   "metadata": {},
   "outputs": [],
   "source": []
  }
 ],
 "metadata": {
  "kernelspec": {
   "display_name": "Python 3 (ipykernel)",
   "language": "python",
   "name": "python3"
  },
  "language_info": {
   "codemirror_mode": {
    "name": "ipython",
    "version": 3
   },
   "file_extension": ".py",
   "mimetype": "text/x-python",
   "name": "python",
   "nbconvert_exporter": "python",
   "pygments_lexer": "ipython3",
   "version": "3.12.9"
  }
 },
 "nbformat": 4,
 "nbformat_minor": 5
}
