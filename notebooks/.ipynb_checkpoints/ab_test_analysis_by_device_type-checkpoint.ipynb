{
 "cells": [
  {
   "cell_type": "code",
   "execution_count": 1,
   "id": "93d7f4df-b940-4fdf-9f38-428022ce6f88",
   "metadata": {},
   "outputs": [
    {
     "data": {
      "text/plain": [
       "'/workspace/ab-testing-simulation/notebooks'"
      ]
     },
     "execution_count": 1,
     "metadata": {},
     "output_type": "execute_result"
    }
   ],
   "source": [
    "import os\n",
    "os.getcwd()"
   ]
  },
  {
   "cell_type": "markdown",
   "id": "f47a63ef-5948-45c4-8e9f-67596bef4b04",
   "metadata": {},
   "source": [
    "# A/B Test Results by Device Type\n",
    "\n",
    "Although the overall A/B test results (ab_test_analysis.ipynb) show some metrics with significant differences (like session duration and pages viewed), it’s common in e-commerce to observe different behavioral patterns across devices:\n",
    "\n",
    "- Mobile users often show shorter sessions, higher bounce rates, and a tendency toward quicker decisions due to time or screen constraints.\n",
    "\n",
    "- Desktop users may engage in deeper browsing, comparison shopping, and are often more likely to convert for higher-ticket items.\n",
    "\n",
    "- A variant that performs well overall might actually be outperforming only on one device type, and underperforming on the other, making device-specific analysis critical before making rollout decisions."
   ]
  },
  {
   "cell_type": "markdown",
   "id": "85733fce-3ddf-461c-b44b-4673b64dd997",
   "metadata": {},
   "source": [
    "## Data & Group Overview"
   ]
  },
  {
   "cell_type": "code",
   "execution_count": 2,
   "id": "f2e7f5ca-b622-45fb-a12b-4b66d2b2337c",
   "metadata": {},
   "outputs": [],
   "source": [
    "import pandas as pd\n",
    "import numpy as np\n",
    "import matplotlib.pyplot as plt\n",
    "import seaborn as sns\n",
    "from scipy.stats import shapiro\n",
    "import scipy.stats as stats\n",
    "from scipy.stats import mannwhitneyu\n",
    "from scipy.stats import ttest_ind\n",
    "import statsmodels.api as sm\n",
    "from statsmodels.stats.proportion import proportions_ztest\n",
    "\n",
    "plt.style.use('ggplot')"
   ]
  },
  {
   "cell_type": "code",
   "execution_count": 3,
   "id": "77487afe-3fe8-4b21-b966-e75d543bdc39",
   "metadata": {},
   "outputs": [
    {
     "data": {
      "text/html": [
       "<div>\n",
       "<style scoped>\n",
       "    .dataframe tbody tr th:only-of-type {\n",
       "        vertical-align: middle;\n",
       "    }\n",
       "\n",
       "    .dataframe tbody tr th {\n",
       "        vertical-align: top;\n",
       "    }\n",
       "\n",
       "    .dataframe thead th {\n",
       "        text-align: right;\n",
       "    }\n",
       "</style>\n",
       "<table border=\"1\" class=\"dataframe\">\n",
       "  <thead>\n",
       "    <tr style=\"text-align: right;\">\n",
       "      <th></th>\n",
       "      <th>user_id</th>\n",
       "      <th>group</th>\n",
       "      <th>converted</th>\n",
       "      <th>session_duration</th>\n",
       "      <th>pages_viewed</th>\n",
       "      <th>device_type</th>\n",
       "      <th>revenue</th>\n",
       "    </tr>\n",
       "  </thead>\n",
       "  <tbody>\n",
       "    <tr>\n",
       "      <th>0</th>\n",
       "      <td>1</td>\n",
       "      <td>A</td>\n",
       "      <td>0</td>\n",
       "      <td>125</td>\n",
       "      <td>3</td>\n",
       "      <td>mobile</td>\n",
       "      <td>0.00</td>\n",
       "    </tr>\n",
       "    <tr>\n",
       "      <th>1</th>\n",
       "      <td>2</td>\n",
       "      <td>A</td>\n",
       "      <td>1</td>\n",
       "      <td>79</td>\n",
       "      <td>2</td>\n",
       "      <td>desktop</td>\n",
       "      <td>41.13</td>\n",
       "    </tr>\n",
       "    <tr>\n",
       "      <th>2</th>\n",
       "      <td>3</td>\n",
       "      <td>A</td>\n",
       "      <td>0</td>\n",
       "      <td>131</td>\n",
       "      <td>1</td>\n",
       "      <td>mobile</td>\n",
       "      <td>0.00</td>\n",
       "    </tr>\n",
       "    <tr>\n",
       "      <th>3</th>\n",
       "      <td>4</td>\n",
       "      <td>A</td>\n",
       "      <td>0</td>\n",
       "      <td>138</td>\n",
       "      <td>1</td>\n",
       "      <td>tablet</td>\n",
       "      <td>0.00</td>\n",
       "    </tr>\n",
       "    <tr>\n",
       "      <th>4</th>\n",
       "      <td>5</td>\n",
       "      <td>A</td>\n",
       "      <td>0</td>\n",
       "      <td>136</td>\n",
       "      <td>1</td>\n",
       "      <td>desktop</td>\n",
       "      <td>0.00</td>\n",
       "    </tr>\n",
       "  </tbody>\n",
       "</table>\n",
       "</div>"
      ],
      "text/plain": [
       "   user_id group  converted  session_duration  pages_viewed device_type  \\\n",
       "0        1     A          0               125             3      mobile   \n",
       "1        2     A          1                79             2     desktop   \n",
       "2        3     A          0               131             1      mobile   \n",
       "3        4     A          0               138             1      tablet   \n",
       "4        5     A          0               136             1     desktop   \n",
       "\n",
       "   revenue  \n",
       "0     0.00  \n",
       "1    41.13  \n",
       "2     0.00  \n",
       "3     0.00  \n",
       "4     0.00  "
      ]
     },
     "execution_count": 3,
     "metadata": {},
     "output_type": "execute_result"
    }
   ],
   "source": [
    "# Loading and examining the dataset\n",
    "df = pd.read_csv('/workspace/ab-testing-simulation/data/ab_test_data.csv')\n",
    "df.head()"
   ]
  },
  {
   "cell_type": "code",
   "execution_count": 4,
   "id": "2046dd81-95b5-4a64-8d00-cdb1841816af",
   "metadata": {},
   "outputs": [
    {
     "name": "stdout",
     "output_type": "stream",
     "text": [
      "<class 'pandas.core.frame.DataFrame'>\n",
      "RangeIndex: 2000 entries, 0 to 1999\n",
      "Data columns (total 7 columns):\n",
      " #   Column            Non-Null Count  Dtype  \n",
      "---  ------            --------------  -----  \n",
      " 0   user_id           2000 non-null   int64  \n",
      " 1   group             2000 non-null   object \n",
      " 2   converted         2000 non-null   int64  \n",
      " 3   session_duration  2000 non-null   int64  \n",
      " 4   pages_viewed      2000 non-null   int64  \n",
      " 5   device_type       2000 non-null   object \n",
      " 6   revenue           2000 non-null   float64\n",
      "dtypes: float64(1), int64(4), object(2)\n",
      "memory usage: 109.5+ KB\n"
     ]
    }
   ],
   "source": [
    "# Checking for missing values and viewing summary statistics\n",
    "df.info()"
   ]
  }
 ],
 "metadata": {
  "kernelspec": {
   "display_name": "Python 3 (ipykernel)",
   "language": "python",
   "name": "python3"
  },
  "language_info": {
   "codemirror_mode": {
    "name": "ipython",
    "version": 3
   },
   "file_extension": ".py",
   "mimetype": "text/x-python",
   "name": "python",
   "nbconvert_exporter": "python",
   "pygments_lexer": "ipython3",
   "version": "3.12.9"
  }
 },
 "nbformat": 4,
 "nbformat_minor": 5
}
